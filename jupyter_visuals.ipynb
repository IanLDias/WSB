{
 "cells": [
  {
   "cell_type": "code",
   "execution_count": 1,
   "metadata": {},
   "outputs": [],
   "source": [
    "from database import config\n",
    "import sqlite3 \n",
    "import pandas as pd\n",
    "from datetime import datetime\n",
    "\n",
    "import plotly.graph_objects as go"
   ]
  },
  {
   "cell_type": "code",
   "execution_count": 2,
   "metadata": {},
   "outputs": [],
   "source": [
    "connection = sqlite3.connect(config.DB_PATH)\n",
    "df = pd.read_sql_query(\"SELECT * FROM crypto_OHLCV\", connection)"
   ]
  },
  {
   "cell_type": "code",
   "execution_count": 3,
   "metadata": {},
   "outputs": [],
   "source": [
    "df.set_index('id', inplace=True)"
   ]
  },
  {
   "cell_type": "code",
   "execution_count": 4,
   "metadata": {},
   "outputs": [],
   "source": [
    "btc = df[df['crypto_id'] == 'BTC']"
   ]
  },
  {
   "cell_type": "code",
   "execution_count": 5,
   "metadata": {},
   "outputs": [],
   "source": [
    "def convert_unix_to_datetime(date_col):\n",
    "    'Converts the unix dates into YYYY-MM-DD'\n",
    "    int_list = list((map(int,date_col)))\n",
    "    date_list = list(map(datetime.utcfromtimestamp, int_list))\n",
    "    converted_dates = [date_list[i].strftime('%Y-%m-%d') for i in range(len(date_list))]\n",
    "    return converted_dates\n",
    "converted_dates = convert_unix_to_datetime(df['date'])\n",
    "df['date'] = converted_dates\n",
    "df = df.replace(r'\\n',' ', regex=True)  #removes newline characters from cells"
   ]
  },
  {
   "cell_type": "code",
   "execution_count": 6,
   "metadata": {},
   "outputs": [],
   "source": [
    "symbol_list = df['crypto_id'].unique()"
   ]
  },
  {
   "cell_type": "code",
   "execution_count": 7,
   "metadata": {},
   "outputs": [],
   "source": [
    "def plot_crypto(symbol):\n",
    "    df_symbol = df[df['crypto_id'] == f'{symbol}']\n",
    "    fig = go.Figure(data=go.Ohlc(x=df_symbol['date'],\n",
    "                        open=df_symbol['open'],\n",
    "                        high=df_symbol['high'],\n",
    "                        low=df_symbol['low'],\n",
    "                        close=df_symbol['close']))\n",
    "    fig.update_layout(\n",
    "    title=f'{symbol} currency')\n",
    "    return fig.show()"
   ]
  },
  {
   "cell_type": "code",
   "execution_count": 16,
   "metadata": {},
   "outputs": [],
   "source": [
    "import mplfinance as mpl\n",
    "import mpld3\n",
    "from mpld3 import plugins\n",
    "import matplotlib.pyplot as plt\n",
    "\n",
    "mpl_df = df.set_index('date')\n",
    "mpl_df.index = pd.to_datetime(mpl_df.index)\n",
    "\n",
    "for i in range(1, len(mpl_df.columns)-2):\n",
    "    mpl_df.iloc[:,i] = list(map(float, mpl_df.iloc[:,i]))\n"
   ]
  },
  {
   "cell_type": "code",
   "execution_count": 31,
   "metadata": {},
   "outputs": [],
   "source": [
    "def mpl_crypto(symbol):\n",
    "    fig = plt.Figure()\n",
    "    mpl.plot(mpl_df[mpl_df['crypto_id'] == f'{symbol}'])\n",
    "    plugins.connect(fig)\n",
    "    return mpld3.show()"
   ]
  },
  {
   "cell_type": "code",
   "execution_count": null,
   "metadata": {},
   "outputs": [],
   "source": []
  }
 ],
 "metadata": {
  "kernelspec": {
   "display_name": "Python 3",
   "language": "python",
   "name": "python3"
  },
  "language_info": {
   "codemirror_mode": {
    "name": "ipython",
    "version": 3
   },
   "file_extension": ".py",
   "mimetype": "text/x-python",
   "name": "python",
   "nbconvert_exporter": "python",
   "pygments_lexer": "ipython3",
   "version": "3.7.4"
  }
 },
 "nbformat": 4,
 "nbformat_minor": 2
}
